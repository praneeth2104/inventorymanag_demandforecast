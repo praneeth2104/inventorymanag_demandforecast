{
  "nbformat": 4,
  "nbformat_minor": 0,
  "metadata": {
    "colab": {
      "provenance": [],
      "authorship_tag": "ABX9TyPQbUwD9BzUW9yBJx1vX27F",
      "include_colab_link": true
    },
    "kernelspec": {
      "name": "python3",
      "display_name": "Python 3"
    },
    "language_info": {
      "name": "python"
    }
  },
  "cells": [
    {
      "cell_type": "markdown",
      "metadata": {
        "id": "view-in-github",
        "colab_type": "text"
      },
      "source": [
        "<a href=\"https://colab.research.google.com/github/praneeth2104/inventorymanag_demandforecast/blob/main/inventory_managment.ipynb\" target=\"_parent\"><img src=\"https://colab.research.google.com/assets/colab-badge.svg\" alt=\"Open In Colab\"/></a>"
      ]
    },
    {
      "cell_type": "code",
      "metadata": {
        "id": "0ad6dbb8"
      },
      "source": [
        "import pandas as pd\n",
        "import numpy as np\n",
        "import math\n",
        "import seaborn as sns\n",
        "import os\n",
        "import sys\n",
        "from sklearn.preprocessing import LabelEncoder\n",
        "from sklearn.model_selection import train_test_split\n",
        "from sklearn.preprocessing import LabelEncoder\n",
        "\n",
        "from sklearn.ensemble import RandomForestClassifier\n",
        "from prophet import Prophet\n",
        "\n",
        "from sklearn.metrics import accuracy_score, classification_report, confusion_matrix\n",
        "\n",
        "import matplotlib.pyplot as plt\n",
        "import calendar\n",
        "import squarify"
      ],
      "execution_count": null,
      "outputs": []
    },
    {
      "cell_type": "code",
      "metadata": {
        "id": "27fde814"
      },
      "source": [
        "df = pd.read_csv(\"DataCoSupplyChainDataset.csv\", encoding=\"ISO-8859-1\")"
      ],
      "execution_count": null,
      "outputs": []
    },
    {
      "cell_type": "markdown",
      "source": [
        "# data preprocessing"
      ],
      "metadata": {
        "id": "I4SPn6g9aMj6"
      }
    },
    {
      "cell_type": "markdown",
      "source": [
        "deleting columns"
      ],
      "metadata": {
        "id": "ikJ8pd-M-xZk"
      }
    },
    {
      "cell_type": "code",
      "source": [
        "def drop_columns(df, columns_to_drop):\n",
        "    try:\n",
        "        df = df.drop(columns=columns_to_drop)\n",
        "        print(f\"{len(columns_to_drop)} columns dropped successfully. Number of columns remaining: {len(df.columns)}\")\n",
        "\n",
        "        return df\n",
        "\n",
        "    except KeyError as e:\n",
        "        # If any column in columns_to_drop is not found in the dataframe\n",
        "        print(f\"\"\"Column(s): {e} not found in dataframe.\n",
        "\n",
        "            No columns dropped.\n",
        "            Please Check that the column names are correct.\"\"\")\n",
        "        return df\n"
      ],
      "metadata": {
        "id": "IPPeT-U1wAhm"
      },
      "execution_count": null,
      "outputs": []
    },
    {
      "cell_type": "code",
      "source": [
        "columns_to_keep = ['Days for shipping (real)',\n",
        "                  'Days for shipment (scheduled)',\n",
        "                  'Customer Country',\n",
        "                  'Sales per customer',\n",
        "                  'Delivery Status',\n",
        "                  'Late_delivery_risk',\n",
        "                  'Customer City',\n",
        "                  'Customer Segment',\n",
        "                  'Sales','Shipping Mode',\n",
        "                  'Type', 'Product Card Id',\n",
        "                  'Customer Zipcode',\n",
        "                  'Product Category Id',\n",
        "                  'Product Name',\n",
        "                  'Product Price',\n",
        "                  'Market',\n",
        "                  'Product Status',\n",
        "                  'shipping date (DateOrders)']"
      ],
      "metadata": {
        "id": "SgPWnoFoWJNS"
      },
      "execution_count": null,
      "outputs": []
    },
    {
      "cell_type": "code",
      "source": [
        "columns_to_drop = [col for col in df.columns if col not in columns_to_keep]\n",
        "df = drop_columns(df, columns_to_drop)"
      ],
      "metadata": {
        "id": "KSOYoBSxWNlS"
      },
      "execution_count": null,
      "outputs": []
    },
    {
      "cell_type": "markdown",
      "source": [
        "checking for null values"
      ],
      "metadata": {
        "id": "S5tIrmm4-1Lz"
      }
    },
    {
      "cell_type": "code",
      "source": [
        "def check_null_values(df):\n",
        "    null_values = df.isnull().sum()\n",
        "    if null_values.sum() == 0:\n",
        "        print(\"No null values found \")\n",
        "    else:\n",
        "        print(\"Null values found in the following columns:\")\n",
        "        for column, null_count in null_values.items():\n",
        "            if null_count > 0:\n",
        "                print(f\"{column}: {null_count}\")"
      ],
      "metadata": {
        "id": "j2JFtY1u9TrG"
      },
      "execution_count": null,
      "outputs": []
    },
    {
      "cell_type": "code",
      "source": [
        "check_null_values(df)"
      ],
      "metadata": {
        "id": "q7ry1Xou9Z2J"
      },
      "execution_count": null,
      "outputs": []
    },
    {
      "cell_type": "markdown",
      "source": [
        "new columns for better analysis"
      ],
      "metadata": {
        "id": "adodZImp-32q"
      }
    },
    {
      "cell_type": "code",
      "source": [
        "df['Lead Time'] = df['Days for shipping (real)'] - df['Days for shipment (scheduled)']\n"
      ],
      "metadata": {
        "id": "XZHkPf-m-ua8"
      },
      "execution_count": null,
      "outputs": []
    },
    {
      "cell_type": "code",
      "source": [
        "def extract_date_parts(df, date_column, prefix):\n",
        "\n",
        "    try:\n",
        "        df[date_column] = pd.to_datetime(df[date_column])\n",
        "        df[f'{prefix} Year'] = df[date_column].dt.year\n",
        "        df[f'{prefix} Month'] = df[date_column].dt.month\n",
        "        df[f'{prefix} Day'] = df[date_column].dt.day\n",
        "        df[f'{prefix} Weekday'] = df[date_column].dt.weekday\n",
        "        print(f\"success\")\n",
        "        return df\n",
        "    except Exception as e:\n",
        "        print(f\"Error creating columns: {e}\")\n",
        "        return df\n"
      ],
      "metadata": {
        "id": "nfv7DvjXKkmV"
      },
      "execution_count": null,
      "outputs": []
    },
    {
      "cell_type": "code",
      "source": [
        "df = extract_date_parts(df, 'shipping date (DateOrders)', 'Shipping')\n",
        "\n"
      ],
      "metadata": {
        "id": "9oQsl7O6AAVu"
      },
      "execution_count": null,
      "outputs": []
    },
    {
      "cell_type": "markdown",
      "source": [
        "label encoding and one hot encoder"
      ],
      "metadata": {
        "id": "YDTi-r4taIZZ"
      }
    },
    {
      "cell_type": "code",
      "source": [
        "top_product = df['Product Card Id'].value_counts().index[0]"
      ],
      "metadata": {
        "id": "O-grphS6XOJq"
      },
      "execution_count": null,
      "outputs": []
    },
    {
      "cell_type": "code",
      "source": [
        "df_copy = df[df['Product Card Id'] == top_product].copy()"
      ],
      "metadata": {
        "id": "siZFXzoKbkwP"
      },
      "execution_count": null,
      "outputs": []
    },
    {
      "cell_type": "code",
      "source": [
        "categorical_cols = ['Type', 'Customer Segment',\n",
        "                    'Delivery Status',\n",
        "                    'Customer City',\n",
        "                    'Market',\n",
        "                    'Shipping Mode']\n",
        "columns_to_drop = ['Product Name',\n",
        "                   'Days for shipment (scheduled)',\n",
        "                   'Sales per customer',\n",
        "                   'Days for shipping (real)',\n",
        "                   'Customer Country',\n",
        "                   'shipping date (DateOrders)',\n",
        "                   'Product Card Id',\n",
        "                   'Product Category Id',\n",
        "                   'Product Status',\n",
        "                   'Product Price']"
      ],
      "metadata": {
        "id": "N5Bp8bCEfwnP"
      },
      "execution_count": null,
      "outputs": []
    },
    {
      "cell_type": "code",
      "source": [
        "label_encoder = LabelEncoder()\n",
        "df_label_encoded = df_copy.copy()\n",
        "for col in categorical_cols:\n",
        "    df_label_encoded[col] = label_encoder.fit_transform(df_label_encoded[col])\n",
        "df_label_encoded = df_label_encoded.drop(columns=columns_to_drop)\n"
      ],
      "metadata": {
        "id": "8Xop99rea3vt"
      },
      "execution_count": null,
      "outputs": []
    },
    {
      "cell_type": "code",
      "source": [
        "df_one_hot_encoded = pd.get_dummies(df_copy, columns=categorical_cols)\n",
        "df_one_hot_encoded = df_one_hot_encoded.drop(columns=columns_to_drop)"
      ],
      "metadata": {
        "id": "vjZ1wPURf-mg"
      },
      "execution_count": null,
      "outputs": []
    },
    {
      "cell_type": "markdown",
      "source": [
        "# data visualization"
      ],
      "metadata": {
        "id": "jolk3Ap-JKnc"
      }
    },
    {
      "cell_type": "markdown",
      "source": [
        "univariate analysis"
      ],
      "metadata": {
        "id": "mvAQd1fXlwZt"
      }
    },
    {
      "cell_type": "code",
      "source": [
        "fig, axes = plt.subplots(nrows=3, ncols=3, figsize=(15, 15))\n",
        "fig.suptitle('Distribution Plots for Selected Variables',\n",
        "             fontsize=16)\n",
        "df_copy = df.copy()\n",
        "\n",
        "sns.countplot(data=df_copy, x='Product Card Id',\n",
        "                color='blue', ax=axes[0, 0],\n",
        "                order=df_copy['Product Card Id'].value_counts().iloc[:10].index)\n",
        "axes[0, 0].set_title('Distribution of Top Ten Product Id')\n",
        "axes[0, 0].set_xlabel('Product Card Id')\n",
        "axes[0, 0].set_ylabel('Count')\n",
        "\n",
        "sns.histplot(data=df_copy, x='Sales',\n",
        "             kde=True, color='salmon',\n",
        "             bins=30, linewidth=2,\n",
        "             ax=axes[0, 1])\n",
        "axes[0, 1].set_title('Distribution of Sales')\n",
        "axes[0, 1].set_xlabel('Sales value in Dollars')\n",
        "axes[0, 1].set_ylabel('Frequency')\n",
        "\n",
        "sns.histplot(data=df_copy, x='Sales per customer',\n",
        "             bins=30, kde=True, linewidth=2,\n",
        "             color='lightblue', ax=axes[0, 2])\n",
        "axes[0, 2].set_title('Distribution of Sales per Customer')\n",
        "axes[0, 2].set_xlabel('Sales per Customer')\n",
        "axes[0, 2].set_ylabel('Frequency')\n",
        "\n",
        "sns.histplot(data=df_copy, x='Product Price', bins=30, kde=True,\n",
        "             color='lightgreen', linewidth=2, ax=axes[1, 0])\n",
        "\n",
        "axes[1, 0].set_title('Distribution of Product Price')\n",
        "axes[1, 0].set_xlabel('Product Price')\n",
        "\n",
        "squarify.plot(sizes=df_copy['Customer Segment'].value_counts(),\n",
        "              label=df_copy['Customer Segment'].value_counts().index,\n",
        "              color=sns.color_palette(\"Set3\"), ax=axes[1, 1])\n",
        "axes[1, 1].set_title('Distribution of Customer Segment')\n",
        "\n",
        "squarify.plot(sizes=df_copy['Product Category Id'].value_counts().iloc[:10],\n",
        "                label=df_copy['Product Category Id'].value_counts().iloc[:10].index,\n",
        "                color=sns.color_palette(\"Set2\"), ax=axes[1, 2])\n",
        "axes[1, 2].set_title('Distribution of Top Ten Product Category Id')\n",
        "\n",
        "sns.countplot(data=df_copy, x='Delivery Status',\n",
        "                color='pink', ax=axes[2, 0])\n",
        "axes[2, 0].set_title('Distribution of Delivery Status')\n",
        "axes[2, 0].set_xlabel('Delivery Status')\n",
        "axes[2, 0].set_ylabel('Count')\n",
        "\n",
        "df_copy.groupby(['Type'])['Type'].count().plot(kind='bar',\n",
        "                                               stacked=True,\n",
        "                                               ax=axes[2, 1])\n",
        "\n",
        "axes[2, 1].set_title('Distribution of Payment Type')\n",
        "axes[2, 1].set_xlabel('Payment Type')\n",
        "axes[2, 1].set_ylabel('Count')\n",
        "\n",
        "sns.countplot(data=df_copy, x='Customer Country',\n",
        "                color='orange', ax=axes[2, 2],\n",
        "                order=df_copy['Customer Country'].value_counts().iloc[:10].index)\n",
        "axes[2, 2].set_title('Distribution of Customer Country')\n",
        "axes[2, 2].set_xlabel('Customer Country')\n",
        "axes[2, 2].set_ylabel('Count')\n",
        "\n",
        "plt.tight_layout(rect=[0, 0.03, 1, 0.95])\n",
        "plt.show()\n",
        "\n"
      ],
      "metadata": {
        "id": "1KMaq82Sl24F"
      },
      "execution_count": null,
      "outputs": []
    },
    {
      "cell_type": "markdown",
      "source": [
        "exploratory time series visualization"
      ],
      "metadata": {
        "id": "bUYIFGaIgmin"
      }
    },
    {
      "cell_type": "code",
      "source": [
        "df_heatmap = df[['shipping date (DateOrders)', 'Sales']]\n",
        "df_heatmap.set_index('shipping date (DateOrders)', inplace=True)\n",
        "resampled_df = df_heatmap.resample('M').sum()\n",
        "month_labels = [calendar.month_abbr[m.month] + '-' + str(m.year) for m in resampled_df.index]\n",
        "plt.figure(figsize=(20, 10))\n",
        "sns.heatmap(resampled_df.T, cmap='YlGnBu', cbar_kws={'label': 'Sales'})\n",
        "plt.xticks(ticks=range(len(month_labels)), labels=month_labels, rotation=80, ha='right')\n",
        "plt.title('Time Series Heatmap of Sales (Aggregated by Month)')\n",
        "plt.xlabel('Month and Year')\n",
        "plt.show()\n",
        "\n"
      ],
      "metadata": {
        "id": "Ym_0VoCcVgIB"
      },
      "execution_count": null,
      "outputs": []
    },
    {
      "cell_type": "markdown",
      "source": [
        "# model training"
      ],
      "metadata": {
        "id": "nYAQfofd4cWk"
      }
    },
    {
      "cell_type": "code",
      "source": [
        "prophet_df = df.copy()\n",
        "prophet_df = prophet_df.rename(columns={'shipping date (DateOrders)': 'ds', 'Sales': 'y'})\n",
        "holidays_df = pd.read_csv('holidays.csv', encoding='ISO-8859-1')\n",
        "holidays_df = holidays_df.rename(columns={'Date': 'ds', 'Name': 'holiday'})\n",
        "holidays_df['lower_window'] = 0\n",
        "holidays_df['upper_window'] = 1\n",
        "holidays_df['ds'] = pd.to_datetime(holidays_df['ds'], format='mixed')\n",
        "\n",
        "prophet = Prophet(holidays=holidays_df)\n",
        "prophet.fit(prophet_df)"
      ],
      "metadata": {
        "id": "O2Sf5P1VAAg0"
      },
      "execution_count": null,
      "outputs": []
    },
    {
      "cell_type": "code",
      "source": [
        "future = prophet.make_future_dataframe(periods=365, freq='D')\n",
        "forecast = prophet.predict(future)"
      ],
      "metadata": {
        "id": "1lS9ptLbCbOr"
      },
      "execution_count": null,
      "outputs": []
    },
    {
      "cell_type": "markdown",
      "source": [
        "evaluating the models"
      ],
      "metadata": {
        "id": "X7WPwIIrDAqj"
      }
    },
    {
      "cell_type": "code",
      "source": [
        "from prophet.diagnostics import cross_validation, performance_metrics\n",
        "df_cv = cross_validation(model=prophet, initial='730 days', period='365 days', horizon='365 days')"
      ],
      "metadata": {
        "id": "YI-KNPCrCyoW"
      },
      "execution_count": null,
      "outputs": []
    },
    {
      "cell_type": "code",
      "source": [
        "from prophet.plot import plot_cross_validation_metric\n",
        "#  set fig size\n",
        "plt.figure(figsize=(9, 6))\n",
        "fig = plot_cross_validation_metric(df_cv, metric='mape')\n",
        "fig.get_axes()[0].get_lines()[0].set_markerfacecolor('#ADD8E7')\n",
        "fig.get_axes()[0].get_lines()[0].set_markeredgecolor('#ADD8E7')"
      ],
      "metadata": {
        "id": "WZsMID1oDlx3"
      },
      "execution_count": null,
      "outputs": []
    },
    {
      "cell_type": "markdown",
      "source": [
        "hyper parameters"
      ],
      "metadata": {
        "id": "QrrB41Ia94Ol"
      }
    },
    {
      "cell_type": "code",
      "source": [
        "tuned_prophet = Prophet(holidays=holidays_df,\n",
        "                        seasonality_mode='additive',\n",
        "                        seasonality_prior_scale=1,\n",
        "                        holidays_prior_scale=5,\n",
        "                        changepoint_prior_scale=0.005)\n",
        "tuned_prophet.fit(prophet_df)\n",
        "future = tuned_prophet.make_future_dataframe(periods=365, freq='D')\n",
        "\n",
        "new_forecast = tuned_prophet.predict(future)"
      ],
      "metadata": {
        "id": "wTLyhE-B932l"
      },
      "execution_count": null,
      "outputs": []
    },
    {
      "cell_type": "code",
      "source": [
        "from prophet.diagnostics import cross_validation, performance_metrics\n",
        "# Perform cross-validation\n",
        "tuned_df_cv = cross_validation(model=tuned_prophet, initial='730 days', period='365 days', horizon='365 days')"
      ],
      "metadata": {
        "id": "WWlVM6aoB6t2"
      },
      "execution_count": null,
      "outputs": []
    },
    {
      "cell_type": "code",
      "source": [
        "fig, axs = plt.subplots(1, 2, figsize=(15, 9))\n",
        "\n",
        "fig1 = plot_cross_validation_metric(df_cv, metric='mape', ax=axs[0])\n",
        "fig1.get_axes()[0].get_lines()[0].set_markerfacecolor('#ADD8E7')\n",
        "fig1.get_axes()[0].get_lines()[0].set_markeredgecolor('#ADD8E7')\n",
        "axs[0].set_title('Initial Cross-Validation score MAPE')\n",
        "\n",
        "fig2 = plot_cross_validation_metric(tuned_df_cv, metric='mape', ax=axs[1])\n",
        "fig2.get_axes()[0].get_lines()[0].set_markerfacecolor('#ADD8E7')\n",
        "fig2.get_axes()[0].get_lines()[0].set_markeredgecolor('#ADD8E9')\n",
        "axs[1].set_title('Tuned Cross-Validation score MAPE')\n",
        "\n",
        "plt.tight_layout()\n",
        "plt.show()"
      ],
      "metadata": {
        "id": "q1bq4Z7tCgpY"
      },
      "execution_count": null,
      "outputs": []
    },
    {
      "cell_type": "markdown",
      "source": [
        "visualizing forecasted sales"
      ],
      "metadata": {
        "id": "EX1oqRdabAVn"
      }
    },
    {
      "cell_type": "code",
      "source": [
        "tuned_prophet.plot_components(new_forecast)"
      ],
      "metadata": {
        "id": "u43Fqk8gbElk"
      },
      "execution_count": null,
      "outputs": []
    },
    {
      "cell_type": "markdown",
      "source": [
        "# finding optimal invemtory policy"
      ],
      "metadata": {
        "id": "5VyFUaDHqTag"
      }
    },
    {
      "cell_type": "code",
      "source": [
        "average_forecasted_sales = new_forecast['yhat'].mean()\n",
        "average_lead_time = 7\n",
        "lead_time_demand = average_forecasted_sales * average_lead_time\n"
      ],
      "metadata": {
        "id": "d1YUDA9oqQnE"
      },
      "execution_count": null,
      "outputs": []
    },
    {
      "cell_type": "code",
      "source": [
        "max_daily_forecasted_sales = new_forecast['yhat'].max()\n",
        "max_lead_time = 10\n",
        "safety_stock = (max_daily_forecasted_sales * max_lead_time) - lead_time_demand\n",
        "safety_stock"
      ],
      "metadata": {
        "id": "xXT_Y_yurHHy"
      },
      "execution_count": null,
      "outputs": []
    },
    {
      "cell_type": "code",
      "source": [
        "reorder_point = lead_time_demand + safety_stock\n",
        "int(reorder_point)"
      ],
      "metadata": {
        "id": "phbEZUxQrWw7"
      },
      "execution_count": null,
      "outputs": []
    },
    {
      "cell_type": "code",
      "source": [
        "product_price = df[df['Product Card Id'] == 365]['Product Price'].iloc[0]\n",
        "H = 0.10 * product_price\n",
        "S = 0.30 * product_price\n",
        "D = new_forecast['yhat'].mean()\n",
        "EOQ = math.sqrt((2 * D * S) / H)\n",
        "EOQ"
      ],
      "metadata": {
        "id": "_Kw2TOIottHX"
      },
      "execution_count": null,
      "outputs": []
    }
  ]
}